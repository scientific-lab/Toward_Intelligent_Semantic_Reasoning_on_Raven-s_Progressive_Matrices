{
 "cells": [
  {
   "cell_type": "code",
   "execution_count": 1,
   "metadata": {},
   "outputs": [],
   "source": [
    "from dataset_raven import RAVENDataset\n",
    "import yaml\n",
    "from models import *\n",
    "with open('configs/bbvae_raven.yaml', 'r') as file:\n",
    "    config = yaml.safe_load(file)\n",
    "#data = VAEDataset(**config[\"data_params\"], pin_memory=len(config['trainer_params']['gpus']) != 0)\n",
    "model = vae_models[config['model_params']['name']](**config['model_params'])"
   ]
  },
  {
   "cell_type": "code",
   "execution_count": 2,
   "metadata": {},
   "outputs": [],
   "source": [
    "state_dict=torch.load('\\\\Users\\\\86182\\\\Raven\\\\PyTorch-VAE-master\\\\logs\\\\version_46\\\\checkpoints\\\\epoch=149-step=60599.ckpt', map_location='cpu')"
   ]
  },
  {
   "cell_type": "code",
   "execution_count": 3,
   "metadata": {},
   "outputs": [],
   "source": [
    "state_dict=state_dict['state_dict']"
   ]
  },
  {
   "cell_type": "code",
   "execution_count": 4,
   "metadata": {},
   "outputs": [],
   "source": [
    "from collections import OrderedDict\n",
    "new_state_dict=OrderedDict()\n",
    "for k,v in state_dict.items():\n",
    "    name=k[6:]\n",
    "    new_state_dict[name]=v"
   ]
  },
  {
   "cell_type": "code",
   "execution_count": 5,
   "metadata": {},
   "outputs": [
    {
     "data": {
      "text/plain": [
       "<All keys matched successfully>"
      ]
     },
     "execution_count": 5,
     "metadata": {},
     "output_type": "execute_result"
    }
   ],
   "source": [
    "model.load_state_dict(new_state_dict)"
   ]
  },
  {
   "cell_type": "code",
   "execution_count": 6,
   "metadata": {},
   "outputs": [],
   "source": [
    "def forward_to_z(input: Tensor, **kwargs) -> Tensor:\n",
    "    mu, log_var = model.encode(input)\n",
    "    z = model.reparameterize(mu, log_var)\n",
    "\n",
    "    #print(self.decode(z).size())\n",
    "    return  z"
   ]
  },
  {
   "cell_type": "code",
   "execution_count": 29,
   "metadata": {},
   "outputs": [],
   "source": [
    "def forward_to_mu(input: Tensor, **kwargs) -> Tensor:\n",
    "    mu, log_var = model.encode(input)\n",
    "    #z = model.reparameterize(mu, log_var)\n",
    "\n",
    "    #print(self.decode(z).size())\n",
    "    return  mu,log_var"
   ]
  },
  {
   "cell_type": "code",
   "execution_count": 7,
   "metadata": {},
   "outputs": [
    {
     "data": {
      "image/png": "[encoded data removed]",
      "text/plain": [
       "<Figure size 720x288 with 10 Axes>"
      ]
     },
     "metadata": {
      "needs_background": "light"
     },
     "output_type": "display_data"
    }
   ],
   "source": [
    "import matplotlib.pyplot as plt\n",
    "fig = plt.figure(figsize=(10,4))\n",
    "for i in range (0,10):\n",
    "    ax = fig.add_subplot(2,5,i+1)\n",
    "    img1=np.load('Data\\\\twobytwo\\\\'+str(i)+'.npy')\n",
    "    ax.imshow(img1)\n"
   ]
  },
  {
   "cell_type": "code",
   "execution_count": 30,
   "metadata": {},
   "outputs": [],
   "source": [
    "img=np.load('Data\\\\twobytwo\\\\0.npy')"
   ]
  },
  {
   "cell_type": "code",
   "execution_count": 31,
   "metadata": {},
   "outputs": [],
   "source": [
    "from torchvision import transforms\n",
    "img_tensor=transforms.functional.to_tensor(img)\n",
    "forward_to_z(img_tensor.reshape(1,1,80,80))"
   ]
  },
  {
   "cell_type": "code",
   "execution_count": 32,
   "metadata": {},
   "outputs": [
    {
     "data": {
      "text/plain": [
       "tensor([[[[1., 1., 1.,  ..., 1., 1., 1.],\n",
       "          [1., 1., 1.,  ..., 1., 1., 1.],\n",
       "          [1., 1., 1.,  ..., 1., 1., 1.],\n",
       "          ...,\n",
       "          [1., 1., 1.,  ..., 1., 1., 1.],\n",
       "          [1., 1., 1.,  ..., 1., 1., 1.],\n",
       "          [1., 1., 1.,  ..., 1., 1., 1.]]]])"
      ]
     },
     "execution_count": 32,
     "metadata": {},
     "output_type": "execute_result"
    }
   ],
   "source": [
    "img_tensor.reshape(1,1,80,80)"
   ]
  },
  {
   "cell_type": "code",
   "execution_count": 33,
   "metadata": {},
   "outputs": [
    {
     "data": {
      "text/plain": [
       "tensor([[-0.9034,  0.5107,  2.0440, -2.1539, -2.2939,  1.4429,  4.4424, -0.2440]],\n",
       "       grad_fn=<AddBackward0>)"
      ]
     },
     "execution_count": 33,
     "metadata": {},
     "output_type": "execute_result"
    }
   ],
   "source": [
    "forward_to_z(img_tensor.reshape(1,1,80,80))"
   ]
  },
  {
   "cell_type": "code",
   "execution_count": 34,
   "metadata": {},
   "outputs": [
    {
     "data": {
      "text/plain": [
       "tensor([[-0.3997, -1.2296, -3.9247,  ...,  0.8858,  0.9561,  0.0951]],\n",
       "       grad_fn=<AddmmBackward0>)"
      ]
     },
     "execution_count": 34,
     "metadata": {},
     "output_type": "execute_result"
    }
   ],
   "source": [
    "model.decoder_input(forward_to_z(img_tensor.reshape(1,1,80,80)))"
   ]
  },
  {
   "cell_type": "code",
   "execution_count": 44,
   "metadata": {},
   "outputs": [],
   "source": [
    "mu,log_var=forward_to_mu(img_tensor.reshape(1,1,80,80))\n"
   ]
  },
  {
   "cell_type": "code",
   "execution_count": 45,
   "metadata": {},
   "outputs": [
    {
     "data": {
      "text/plain": [
       "tensor([[ 0.0591,  0.2302,  2.0440, -0.3403, -2.5292,  1.9614,  4.2286, -0.4055]],\n",
       "       grad_fn=<AddmmBackward0>)"
      ]
     },
     "execution_count": 45,
     "metadata": {},
     "output_type": "execute_result"
    }
   ],
   "source": [
    "mu"
   ]
  },
  {
   "cell_type": "code",
   "execution_count": 46,
   "metadata": {},
   "outputs": [
    {
     "data": {
      "text/plain": [
       "tensor([[ -1.0503,  -1.2397, -60.2345,  -0.4913,  -2.4635,  -0.3536,  -3.2970,\n",
       "          -4.8206]], grad_fn=<AddmmBackward0>)"
      ]
     },
     "execution_count": 46,
     "metadata": {},
     "output_type": "execute_result"
    }
   ],
   "source": [
    "log_var"
   ]
  },
  {
   "cell_type": "code",
   "execution_count": 27,
   "metadata": {},
   "outputs": [],
   "source": [
    "z=np.zeros((10,8))\n",
    "for i in range (0,10):\n",
    "    img=np.load('Data\\\\twobytwo\\\\'+str(i)+'.npy')\n",
    "    img_tensor=transforms.functional.to_tensor(img)\n",
    "    z[i,:]=forward_to_z(img_tensor.reshape(1,1,80,80)).detach().numpy()"
   ]
  },
  {
   "cell_type": "code",
   "execution_count": 24,
   "metadata": {},
   "outputs": [
    {
     "data": {
      "text/plain": [
       "tensor([[ 0.1519,  1.8402, -0.4978,  0.1919,  2.0830, -0.0595, -0.5794,  0.0071]],\n",
       "       grad_fn=<AddBackward0>)"
      ]
     },
     "execution_count": 24,
     "metadata": {},
     "output_type": "execute_result"
    }
   ],
   "source": [
    "forward_to_z(img_tensor.reshape(1,1,80,80))"
   ]
  },
  {
   "cell_type": "code",
   "execution_count": 26,
   "metadata": {},
   "outputs": [
    {
     "data": {
      "text/plain": [
       "torch.Size([1, 6400])"
      ]
     },
     "execution_count": 26,
     "metadata": {},
     "output_type": "execute_result"
    }
   ],
   "source": [
    "model.decoder_input(forward_to_z(img_tensor.reshape(1,1,80,80))).shape"
   ]
  },
  {
   "cell_type": "code",
   "execution_count": null,
   "metadata": {},
   "outputs": [],
   "source": []
  },
  {
   "cell_type": "code",
   "execution_count": 28,
   "metadata": {},
   "outputs": [
    {
     "data": {
      "text/plain": [
       "array([ 0.49629173, -0.15129302,  2.04396534,  0.10716894, -2.27228212,\n",
       "        3.24081993,  4.40734243, -0.34269142])"
      ]
     },
     "execution_count": 28,
     "metadata": {},
     "output_type": "execute_result"
    }
   ],
   "source": [
    "z[0]"
   ]
  },
  {
   "cell_type": "code",
   "execution_count": 16,
   "metadata": {},
   "outputs": [
    {
     "data": {
      "text/plain": [
       "array([ 0.09959477, -0.50475705,  1.62107635,  0.27825162, -2.36915755,\n",
       "        1.88858962,  4.02945471, -0.87636709])"
      ]
     },
     "execution_count": 16,
     "metadata": {},
     "output_type": "execute_result"
    }
   ],
   "source": [
    "z[1]"
   ]
  },
  {
   "cell_type": "code",
   "execution_count": 17,
   "metadata": {},
   "outputs": [
    {
     "data": {
      "text/plain": [
       "array([-0.60649526,  1.28316915,  2.00476336, -0.8632493 , -1.57655668,\n",
       "       -0.15263885,  3.8605237 , -0.17208998])"
      ]
     },
     "execution_count": 17,
     "metadata": {},
     "output_type": "execute_result"
    }
   ],
   "source": [
    "z[2]"
   ]
  },
  {
   "cell_type": "code",
   "execution_count": 47,
   "metadata": {},
   "outputs": [
    {
     "data": {
      "text/plain": [
       "array([-2.20040822,  3.52100778,  1.30995071, -1.38306653, -1.59094357,\n",
       "       -0.90278292,  1.24127412, -2.51296043])"
      ]
     },
     "execution_count": 47,
     "metadata": {},
     "output_type": "execute_result"
    }
   ],
   "source": [
    "z[3]"
   ]
  },
  {
   "cell_type": "code",
   "execution_count": 49,
   "metadata": {},
   "outputs": [],
   "source": [
    "mu=np.zeros((10,8))\n",
    "log_var=np.zeros((10,8))\n",
    "for i in range (0,10):\n",
    "    img=np.load('Data\\\\twobytwo\\\\'+str(i)+'.npy')\n",
    "    img_tensor=transforms.functional.to_tensor(img)\n",
    "    mu0,log_var0=forward_to_mu(img_tensor.reshape(1,1,80,80))\n",
    "    mu[i,:]=mu0.detach().numpy()"
   ]
  },
  {
   "cell_type": "code",
   "execution_count": 50,
   "metadata": {},
   "outputs": [
    {
     "data": {
      "text/plain": [
       "array([ 0.0590666 ,  0.23017155,  2.04396534, -0.34031132, -2.52924824,\n",
       "        1.96138906,  4.22860098, -0.40551674])"
      ]
     },
     "execution_count": 50,
     "metadata": {},
     "output_type": "execute_result"
    }
   ],
   "source": [
    "mu[0]"
   ]
  },
  {
   "cell_type": "code",
   "execution_count": 51,
   "metadata": {},
   "outputs": [
    {
     "data": {
      "text/plain": [
       "array([ 0.00723238, -0.33056596,  1.62107635, -0.35700735, -2.73850942,\n",
       "        1.73060417,  4.17857075, -0.55075932])"
      ]
     },
     "execution_count": 51,
     "metadata": {},
     "output_type": "execute_result"
    }
   ],
   "source": [
    "mu[1]"
   ]
  },
  {
   "cell_type": "code",
   "execution_count": 52,
   "metadata": {},
   "outputs": [
    {
     "data": {
      "text/plain": [
       "array([ 0.76003528,  1.36439598,  2.00476336, -0.63910443, -1.44863868,\n",
       "       -0.14829758,  4.00631475, -0.0325631 ])"
      ]
     },
     "execution_count": 52,
     "metadata": {},
     "output_type": "execute_result"
    }
   ],
   "source": [
    "mu[2]"
   ]
  },
  {
   "cell_type": "code",
   "execution_count": 53,
   "metadata": {},
   "outputs": [],
   "source": [
    "from torchvision import transforms\n",
    "img_tensor=transforms.functional.to_tensor(img)\n",
    "z=forward_to_z(img_tensor.reshape(1,1,80,80))\n",
    "recons=model.decode(z)"
   ]
  },
  {
   "cell_type": "code",
   "execution_count": 59,
   "metadata": {},
   "outputs": [
    {
     "data": {
      "text/plain": [
       "<matplotlib.image.AxesImage at 0x22acbaa6130>"
      ]
     },
     "execution_count": 59,
     "metadata": {},
     "output_type": "execute_result"
    },
    {
     "data": {
      "image/png": "[encoded data removed]",
      "text/plain": [
       "<Figure size 720x720 with 1 Axes>"
      ]
     },
     "metadata": {
      "needs_background": "light"
     },
     "output_type": "display_data"
    }
   ],
   "source": [
    "pic=recons.detach().numpy()[0,0,:,:]\n",
    "import matplotlib.pyplot as plt\n",
    "fig = plt.figure(figsize=(10,10))\n",
    "ax = fig.add_subplot(111)\n",
    "ax.imshow(pic,cmap='gray')"
   ]
  },
  {
   "cell_type": "code",
   "execution_count": null,
   "metadata": {},
   "outputs": [],
   "source": []
  }
 ],
 "metadata": {
  "kernelspec": {
   "display_name": "Python 3",
   "language": "python",
   "name": "python3"
  },
  "language_info": {
   "codemirror_mode": {
    "name": "ipython",
    "version": 3
   },
   "file_extension": ".py",
   "mimetype": "text/x-python",
   "name": "python",
   "nbconvert_exporter": "python",
   "pygments_lexer": "ipython3",
   "version": "3.8.5"
  }
 },
 "nbformat": 4,
 "nbformat_minor": 4
}
